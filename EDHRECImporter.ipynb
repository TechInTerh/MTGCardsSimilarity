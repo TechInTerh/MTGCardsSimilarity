{
 "cells": [
  {
   "cell_type": "code",
   "metadata": {
    "colab": {
     "base_uri": "https://localhost:8080/"
    },
    "id": "L9duooxucDJt",
    "outputId": "6a835dd7-bea3-425b-aa14-d8a833600109"
   },
   "source": [
    "%load_ext autoreload\n",
    "%autoreload 2"
   ],
   "outputs": [],
   "execution_count": null
  },
  {
   "cell_type": "code",
   "metadata": {
    "colab": {
     "base_uri": "https://localhost:8080/"
    },
    "id": "fazssmBEb_j2",
    "outputId": "d76354c5-484e-445b-dd86-f969339fc37d"
   },
   "source": [
    "from src.myedhrec import MyEDHREc\n",
    "myedhred = MyEDHREc()\n",
    "similar_cards_example = myedhred.get_similar_cards('Dusk // Dawn')\n",
    "[x['name'] for x in similar_cards_example]"
   ],
   "outputs": [],
   "execution_count": null
  },
  {
   "cell_type": "code",
   "metadata": {
    "colab": {
     "base_uri": "https://localhost:8080/",
     "height": 52
    },
    "id": "AF8v2Uazb_j-",
    "outputId": "bdc1beb6-403c-4cf0-81bf-2d2501f8a3bb",
    "ExecuteTime": {
     "end_time": "2024-07-20T14:17:51.641515Z",
     "start_time": "2024-07-20T14:17:50.577895Z"
    }
   },
   "source": [
    "from src.similaritygraph import SimilarityGraph\n",
    "\n",
    "delimiter = ';'\n",
    "\n",
    "simi_graph : SimilarityGraph= SimilarityGraph()\n",
    "simi_graph.add_card('Tidal Barracuda', 4)"
   ],
   "outputs": [
    {
     "data": {
      "text/plain": [
       "<IPython.core.display.HTML object>"
      ],
      "text/html": [
       "Current card : Raff Capashen, Ship's Mage<br>Number of Cards : 18"
      ]
     },
     "metadata": {},
     "output_type": "display_data"
    }
   ],
   "execution_count": 23
  },
  {
   "cell_type": "code",
   "metadata": {},
   "source": [
    "simi_graph.graph.nodes"
   ],
   "outputs": [],
   "execution_count": null
  },
  {
   "cell_type": "code",
   "metadata": {
    "colab": {
     "base_uri": "https://localhost:8080/",
     "height": 475
    },
    "id": "00A4fB_ViI4M",
    "outputId": "468f1ab2-17db-4022-c3ae-8c8048f6a42c",
    "ExecuteTime": {
     "end_time": "2024-07-20T14:17:56.314422Z",
     "start_time": "2024-07-20T14:17:56.289522Z"
    }
   },
   "source": "simi_graph.plot_graph().export_html('out.html', overwrite=True)\n",
   "outputs": [],
   "execution_count": 24
  },
  {
   "cell_type": "code",
   "metadata": {
    "colab": {
     "base_uri": "https://localhost:8080/"
    },
    "id": "t1uw0qrOysO-",
    "outputId": "db65eb48-262b-435c-b922-bc62fea1a538"
   },
   "source": [
    "simi_graph.write_graph('graph.txt')\n",
    "!cat graph.txt | head -n 20"
   ],
   "outputs": [],
   "execution_count": null
  },
  {
   "cell_type": "code",
   "metadata": {
    "colab": {
     "base_uri": "https://localhost:8080/"
    },
    "id": "yWV_wlVy0POW",
    "outputId": "9e6dfe02-be2d-40fd-86d4-ff0d61886de2"
   },
   "source": [
    "new_graph = SimilarityGraph.load_graph('graph.txt')\n",
    "\n",
    "list(new_graph.graph.edges)[:10]"
   ],
   "outputs": [],
   "execution_count": null
  },
  {
   "cell_type": "code",
   "metadata": {},
   "source": [
    "new_graph.plot_graph().export_html('out2.html', overwrite=True)"
   ],
   "outputs": [],
   "execution_count": null
  },
  {
   "cell_type": "code",
   "metadata": {},
   "source": [],
   "outputs": [],
   "execution_count": null
  }
 ],
 "metadata": {
  "accelerator": "GPU",
  "colab": {
   "gpuType": "T4",
   "provenance": []
  },
  "kernelspec": {
   "display_name": "Python 3 (ipykernel)",
   "language": "python",
   "name": "python3"
  },
  "language_info": {
   "codemirror_mode": {
    "name": "ipython",
    "version": 3
   },
   "file_extension": ".py",
   "mimetype": "text/x-python",
   "name": "python",
   "nbconvert_exporter": "python",
   "pygments_lexer": "ipython3",
   "version": "3.10.12"
  }
 },
 "nbformat": 4,
 "nbformat_minor": 0
}
