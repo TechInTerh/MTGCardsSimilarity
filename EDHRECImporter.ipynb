{
 "cells": [
  {
   "cell_type": "code",
   "execution_count": 34,
   "metadata": {},
   "outputs": [],
   "source": [
    "\n",
    "from pyedhrec import EDHRec\n",
    "class MyEDHREc(EDHRec):\n",
    "    def __init__(self):\n",
    "        super().__init__()\n",
    "        self._json_page_cards_url = \"https://json.edhrec.com/pages/cards/\"\n",
    "\n",
    "    def get_similar_cards(self, cards_name: str):\n",
    "        formatted_card_name = self.format_card_name(cards_name)\n",
    "        url = f\"{self._json_page_cards_url}{formatted_card_name}.json\"\n",
    "        data = self._get(url)\n",
    "        return data[\"similar\"]\n",
    "myedhred = MyEDHREc()\n",
    "similar_cards = myedhred.get_similar_cards(\"Pongify\")\n",
    "[x[\"name\"] for x in similar_cards]"
   ]
  },
  {
   "cell_type": "code",
   "execution_count": 36,
   "metadata": {},
   "outputs": [
    {
     "data": {
      "text/plain": [
       "['Rapid Hybridization',\n",
       " 'Beast Within',\n",
       " 'Reality Shift',\n",
       " 'Turn to Frog',\n",
       " 'Chaos Warp',\n",
       " 'Swan Song']"
      ]
     },
     "execution_count": 36,
     "metadata": {},
     "output_type": "execute_result"
    }
   ],
   "source": []
  },
  {
   "cell_type": "code",
   "execution_count": null,
   "metadata": {},
   "outputs": [],
   "source": []
  }
 ],
 "metadata": {
  "kernelspec": {
   "display_name": "venv",
   "language": "python",
   "name": "python3"
  },
  "language_info": {
   "codemirror_mode": {
    "name": "ipython",
    "version": 3
   },
   "file_extension": ".py",
   "mimetype": "text/x-python",
   "name": "python",
   "nbconvert_exporter": "python",
   "pygments_lexer": "ipython3",
   "version": "3.10.12"
  }
 },
 "nbformat": 4,
 "nbformat_minor": 2
}
