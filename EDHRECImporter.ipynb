{
 "cells": [
  {
   "cell_type": "code",
   "metadata": {
    "colab": {
     "base_uri": "https://localhost:8080/"
    },
    "id": "L9duooxucDJt",
    "outputId": "6a835dd7-bea3-425b-aa14-d8a833600109",
    "ExecuteTime": {
     "end_time": "2024-07-20T13:15:34.946985Z",
     "start_time": "2024-07-20T13:15:34.933219Z"
    }
   },
   "source": [
    "%load_ext autoreload\n",
    "%autoreload 2"
   ],
   "outputs": [],
   "execution_count": 1
  },
  {
   "cell_type": "code",
   "metadata": {
    "colab": {
     "base_uri": "https://localhost:8080/"
    },
    "id": "fazssmBEb_j2",
    "outputId": "d76354c5-484e-445b-dd86-f969339fc37d",
    "ExecuteTime": {
     "end_time": "2024-07-20T13:15:35.133939Z",
     "start_time": "2024-07-20T13:15:34.947793Z"
    }
   },
   "source": [
    "from src.myedhrec import MyEDHREc\n",
    "\n",
    "myedhred = MyEDHREc()\n",
    "similar_cards_example = myedhred.get_similar_cards('Dusk // Dawn')\n",
    "[x['name'] for x in similar_cards_example]"
   ],
   "outputs": [
    {
     "data": {
      "text/plain": [
       "['Austere Command',\n",
       " 'Solar Tide',\n",
       " 'Retribution of the Meek',\n",
       " 'Slaughter the Strong',\n",
       " 'Fell the Mighty',\n",
       " 'Citywide Bust']"
      ]
     },
     "execution_count": 2,
     "metadata": {},
     "output_type": "execute_result"
    }
   ],
   "execution_count": 2
  },
  {
   "cell_type": "code",
   "metadata": {
    "colab": {
     "base_uri": "https://localhost:8080/",
     "height": 52
    },
    "id": "AF8v2Uazb_j-",
    "outputId": "bdc1beb6-403c-4cf0-81bf-2d2501f8a3bb",
    "ExecuteTime": {
     "end_time": "2024-07-20T13:15:43.971792Z",
     "start_time": "2024-07-20T13:15:43.190771Z"
    }
   },
   "source": [
    "from src.similaritygraph import SimilarityGraph\n",
    "\n",
    "delimiter = ';'\n",
    "\n",
    "simi_graph = SimilarityGraph()\n",
    "simi_graph.add_card('Counterspell', 3)"
   ],
   "outputs": [
    {
     "data": {
      "text/plain": [
       "<IPython.core.display.HTML object>"
      ],
      "text/html": [
       "Current card : Cancel<br> Number of Cards : 14"
      ]
     },
     "metadata": {},
     "output_type": "display_data"
    }
   ],
   "execution_count": 3
  },
  {
   "cell_type": "code",
   "metadata": {
    "ExecuteTime": {
     "end_time": "2024-07-20T13:15:48.284810Z",
     "start_time": "2024-07-20T13:15:48.275030Z"
    }
   },
   "source": [
    "simi_graph.graph.nodes"
   ],
   "outputs": [
    {
     "data": {
      "text/plain": [
       "NodeView(('Counterspell', 'Mana Drain', 'Force of Will', 'Force of Negation', 'Cryptic Command', 'Pact of Negation', 'Daze', 'Mystic Confluence', \"Archmage's Charm\", 'Izzet Charm', \"Ojutai's Command\", \"Silumgar's Command\", \"Kolaghan's Command\", 'Foil', 'Thwart', 'Gush', 'Snap', 'Spell Pierce', 'Mana Leak', 'Miscalculation', 'Swan Song', 'Dispel', 'Negate', 'Flusterstorm', 'Force Spike', 'Essence Scatter', 'Cancel', 'Disallow', 'Dissolve', 'Stifle', 'Voidslime', 'Sinister Sabotage', 'Ionize', 'Dissipate'))"
      ]
     },
     "execution_count": 4,
     "metadata": {},
     "output_type": "execute_result"
    }
   ],
   "execution_count": 4
  },
  {
   "cell_type": "code",
   "metadata": {
    "colab": {
     "base_uri": "https://localhost:8080/",
     "height": 475
    },
    "id": "00A4fB_ViI4M",
    "outputId": "468f1ab2-17db-4022-c3ae-8c8048f6a42c",
    "ExecuteTime": {
     "end_time": "2024-07-20T13:15:52.204339Z",
     "start_time": "2024-07-20T13:15:52.113424Z"
    }
   },
   "source": [
    "simi_graph.plot_graph().export_html('out.html', overwrite=True)"
   ],
   "outputs": [],
   "execution_count": 5
  },
  {
   "cell_type": "code",
   "metadata": {
    "colab": {
     "base_uri": "https://localhost:8080/"
    },
    "id": "t1uw0qrOysO-",
    "outputId": "db65eb48-262b-435c-b922-bc62fea1a538",
    "ExecuteTime": {
     "end_time": "2024-07-20T13:15:52.713051Z",
     "start_time": "2024-07-20T13:15:52.594488Z"
    }
   },
   "source": [
    "simi_graph.write_graph('graph.txt')\n",
    "!cat graph.txt | head -n 20"
   ],
   "outputs": [
    {
     "name": "stdout",
     "output_type": "stream",
     "text": [
      "#/home/victor/Documents/MTGCardsSimilarity/venv/lib/python3.10/site-packages/ipykernel_launcher.py -f /home/victor/.local/share/jupyter/runtime/kernel-c221e0dd-f097-404c-8681-1f8419082334.json\r\n",
      "# GMT Sat Jul 20 13:15:52 2024\r\n",
      "# \r\n",
      "Counterspell;Mana Drain;Spell Pierce;Negate;Dissolve;Disallow;Cancel\r\n",
      "Mana Drain;Counterspell;Force of Will;Cryptic Command;Daze;Pact of Negation;Spell Pierce\r\n",
      "Force of Will;Force of Negation;Mana Drain;Counterspell;Cryptic Command;Pact of Negation;Daze\r\n",
      "Force of Negation\r\n",
      "Cryptic Command;Mystic Confluence;Archmage's Charm;Izzet Charm;Ojutai's Command;Silumgar's Command;Kolaghan's Command\r\n",
      "Pact of Negation;Force of Will;Force of Negation;Mana Drain;Counterspell;Daze;Spell Pierce\r\n",
      "Daze;Force of Will;Force of Negation;Foil;Thwart;Gush;Snap\r\n",
      "Mystic Confluence\r\n",
      "Archmage's Charm\r\n",
      "Izzet Charm\r\n",
      "Ojutai's Command\r\n",
      "Silumgar's Command\r\n",
      "Kolaghan's Command\r\n",
      "Foil\r\n",
      "Thwart\r\n",
      "Gush\r\n",
      "Snap\r\n"
     ]
    }
   ],
   "execution_count": 6
  },
  {
   "cell_type": "code",
   "metadata": {
    "colab": {
     "base_uri": "https://localhost:8080/"
    },
    "id": "yWV_wlVy0POW",
    "outputId": "9e6dfe02-be2d-40fd-86d4-ff0d61886de2",
    "ExecuteTime": {
     "end_time": "2024-07-20T13:16:04.166686Z",
     "start_time": "2024-07-20T13:16:04.156505Z"
    }
   },
   "source": [
    "new_graph = SimilarityGraph.load_graph('graph.txt')\n",
    "\n",
    "list(new_graph.graph.edges)[:10]"
   ],
   "outputs": [
    {
     "data": {
      "text/plain": [
       "[('Counterspell', 'Mana Drain'),\n",
       " ('Counterspell', 'Spell Pierce'),\n",
       " ('Counterspell', 'Negate'),\n",
       " ('Counterspell', 'Dissolve'),\n",
       " ('Counterspell', 'Disallow'),\n",
       " ('Counterspell', 'Cancel'),\n",
       " ('Counterspell', 'Force of Will'),\n",
       " ('Counterspell', 'Pact of Negation'),\n",
       " ('Counterspell', 'Mana Leak'),\n",
       " ('Counterspell', 'Essence Scatter')]"
      ]
     },
     "execution_count": 7,
     "metadata": {},
     "output_type": "execute_result"
    }
   ],
   "execution_count": 7
  },
  {
   "cell_type": "code",
   "metadata": {
    "ExecuteTime": {
     "end_time": "2024-07-20T13:16:30.163401Z",
     "start_time": "2024-07-20T13:16:30.084268Z"
    }
   },
   "source": [
    "new_graph.plot_graph().export_html('out2.html', overwrite=True)"
   ],
   "outputs": [
    {
     "ename": "NetworkXNotImplemented",
     "evalue": "not implemented for undirected type",
     "output_type": "error",
     "traceback": [
      "\u001B[0;31m---------------------------------------------------------------------------\u001B[0m",
      "\u001B[0;31mNetworkXNotImplemented\u001B[0m                    Traceback (most recent call last)",
      "Cell \u001B[0;32mIn[8], line 1\u001B[0m\n\u001B[0;32m----> 1\u001B[0m \u001B[43mnew_graph\u001B[49m\u001B[38;5;241;43m.\u001B[39;49m\u001B[43mplot_graph\u001B[49m\u001B[43m(\u001B[49m\u001B[43m)\u001B[49m\u001B[38;5;241m.\u001B[39mexport_html(\u001B[38;5;124m'\u001B[39m\u001B[38;5;124mout2.html\u001B[39m\u001B[38;5;124m'\u001B[39m, overwrite\u001B[38;5;241m=\u001B[39m\u001B[38;5;28;01mTrue\u001B[39;00m)\n",
      "File \u001B[0;32m~/Documents/MTGCardsSimilarity/src/similaritygraph.py:43\u001B[0m, in \u001B[0;36mSimilarityGraph.plot_graph\u001B[0;34m(self)\u001B[0m\n\u001B[1;32m     42\u001B[0m \u001B[38;5;28;01mdef\u001B[39;00m \u001B[38;5;21mplot_graph\u001B[39m(\u001B[38;5;28mself\u001B[39m):\n\u001B[0;32m---> 43\u001B[0m \t\u001B[38;5;28;01mreturn\u001B[39;00m \u001B[38;5;28;43mself\u001B[39;49m\u001B[38;5;241;43m.\u001B[39;49m\u001B[43mploter\u001B[49m\u001B[38;5;241;43m.\u001B[39;49m\u001B[43mplot_graph\u001B[49m\u001B[43m(\u001B[49m\u001B[38;5;28;43mself\u001B[39;49m\u001B[38;5;241;43m.\u001B[39;49m\u001B[43mgraph\u001B[49m\u001B[43m)\u001B[49m\n",
      "File \u001B[0;32m~/Documents/MTGCardsSimilarity/src/plotly_graph_plotler.py:56\u001B[0m, in \u001B[0;36mPlotlyGraphPloter.plot_graph\u001B[0;34m(self, G)\u001B[0m\n\u001B[1;32m     55\u001B[0m \u001B[38;5;28;01mdef\u001B[39;00m \u001B[38;5;21mplot_graph\u001B[39m(\u001B[38;5;28mself\u001B[39m, G: nx\u001B[38;5;241m.\u001B[39mGraph):\n\u001B[0;32m---> 56\u001B[0m \t\u001B[38;5;28;43mself\u001B[39;49m\u001B[38;5;241;43m.\u001B[39;49m\u001B[43massign_properties\u001B[49m\u001B[43m(\u001B[49m\u001B[43mG\u001B[49m\u001B[43m)\u001B[49m\n\u001B[1;32m     57\u001B[0m \t\u001B[38;5;28;01mreturn\u001B[39;00m gv\u001B[38;5;241m.\u001B[39md3(\n\u001B[1;32m     58\u001B[0m \t\tG,\n\u001B[1;32m     59\u001B[0m \t\tedge_size_data_source\u001B[38;5;241m=\u001B[39m\u001B[38;5;124m'\u001B[39m\u001B[38;5;124mweight\u001B[39m\u001B[38;5;124m'\u001B[39m,\n\u001B[0;32m   (...)\u001B[0m\n\u001B[1;32m     62\u001B[0m \t\tgraph_height\u001B[38;5;241m=\u001B[39m\u001B[38;5;241m1000\u001B[39m,\n\u001B[1;32m     63\u001B[0m \t)\n",
      "File \u001B[0;32m~/Documents/MTGCardsSimilarity/src/plotly_graph_plotler.py:11\u001B[0m, in \u001B[0;36mPlotlyGraphPloter.assign_properties\u001B[0;34m(self, g)\u001B[0m\n\u001B[1;32m      9\u001B[0m \u001B[38;5;28;01mdef\u001B[39;00m \u001B[38;5;21massign_properties\u001B[39m(\u001B[38;5;28mself\u001B[39m, g: nx\u001B[38;5;241m.\u001B[39mGraph):\n\u001B[1;32m     10\u001B[0m \t\u001B[38;5;66;03m# Centrality calculation\u001B[39;00m\n\u001B[0;32m---> 11\u001B[0m \tnode_centralities \u001B[38;5;241m=\u001B[39m \u001B[43mnx\u001B[49m\u001B[38;5;241;43m.\u001B[39;49m\u001B[43min_degree_centrality\u001B[49m\u001B[43m(\u001B[49m\u001B[43mg\u001B[49m\u001B[43m)\u001B[49m\n\u001B[1;32m     12\u001B[0m \tedge_centralities \u001B[38;5;241m=\u001B[39m nx\u001B[38;5;241m.\u001B[39medge_betweenness_centrality(g)\n\u001B[1;32m     14\u001B[0m \t\u001B[38;5;66;03m# Community detection\u001B[39;00m\n",
      "File \u001B[0;32m<class 'networkx.utils.decorators.argmap'> compilation 4:3\u001B[0m, in \u001B[0;36margmap_in_degree_centrality_1\u001B[0;34m(G, backend, **backend_kwargs)\u001B[0m\n\u001B[1;32m      1\u001B[0m \u001B[38;5;28;01mimport\u001B[39;00m \u001B[38;5;21;01mbz2\u001B[39;00m\n\u001B[1;32m      2\u001B[0m \u001B[38;5;28;01mimport\u001B[39;00m \u001B[38;5;21;01mcollections\u001B[39;00m\n\u001B[0;32m----> 3\u001B[0m \u001B[38;5;28;01mimport\u001B[39;00m \u001B[38;5;21;01mgzip\u001B[39;00m\n\u001B[1;32m      4\u001B[0m \u001B[38;5;28;01mimport\u001B[39;00m \u001B[38;5;21;01minspect\u001B[39;00m\n\u001B[1;32m      5\u001B[0m \u001B[38;5;28;01mimport\u001B[39;00m \u001B[38;5;21;01mitertools\u001B[39;00m\n",
      "File \u001B[0;32m~/Documents/MTGCardsSimilarity/venv/lib/python3.10/site-packages/networkx/utils/decorators.py:90\u001B[0m, in \u001B[0;36mnot_implemented_for.<locals>._not_implemented_for\u001B[0;34m(g)\u001B[0m\n\u001B[1;32m     86\u001B[0m \u001B[38;5;28;01mdef\u001B[39;00m \u001B[38;5;21m_not_implemented_for\u001B[39m(g):\n\u001B[1;32m     87\u001B[0m     \u001B[38;5;28;01mif\u001B[39;00m (mval \u001B[38;5;129;01mis\u001B[39;00m \u001B[38;5;28;01mNone\u001B[39;00m \u001B[38;5;129;01mor\u001B[39;00m mval \u001B[38;5;241m==\u001B[39m g\u001B[38;5;241m.\u001B[39mis_multigraph()) \u001B[38;5;129;01mand\u001B[39;00m (\n\u001B[1;32m     88\u001B[0m         dval \u001B[38;5;129;01mis\u001B[39;00m \u001B[38;5;28;01mNone\u001B[39;00m \u001B[38;5;129;01mor\u001B[39;00m dval \u001B[38;5;241m==\u001B[39m g\u001B[38;5;241m.\u001B[39mis_directed()\n\u001B[1;32m     89\u001B[0m     ):\n\u001B[0;32m---> 90\u001B[0m         \u001B[38;5;28;01mraise\u001B[39;00m nx\u001B[38;5;241m.\u001B[39mNetworkXNotImplemented(errmsg)\n\u001B[1;32m     92\u001B[0m     \u001B[38;5;28;01mreturn\u001B[39;00m g\n",
      "\u001B[0;31mNetworkXNotImplemented\u001B[0m: not implemented for undirected type"
     ]
    }
   ],
   "execution_count": 8
  },
  {
   "cell_type": "code",
   "execution_count": null,
   "metadata": {},
   "outputs": [],
   "source": []
  }
 ],
 "metadata": {
  "accelerator": "GPU",
  "colab": {
   "gpuType": "T4",
   "provenance": []
  },
  "kernelspec": {
   "display_name": "Python 3 (ipykernel)",
   "language": "python",
   "name": "python3"
  },
  "language_info": {
   "codemirror_mode": {
    "name": "ipython",
    "version": 3
   },
   "file_extension": ".py",
   "mimetype": "text/x-python",
   "name": "python",
   "nbconvert_exporter": "python",
   "pygments_lexer": "ipython3",
   "version": "3.10.12"
  }
 },
 "nbformat": 4,
 "nbformat_minor": 0
}
