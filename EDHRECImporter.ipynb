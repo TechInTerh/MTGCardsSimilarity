{
 "cells": [
  {
   "cell_type": "code",
   "execution_count": null,
   "metadata": {},
   "outputs": [],
   "source": [
    "from pyedhrec import EDHRec\n",
    "class MyEDHREc(EDHRec):\n",
    "    def __init__(self):\n",
    "        super().__init__()\n",
    "        self._json_page_cards_url = \"https://json.edhrec.com/pages/cards/\"\n",
    "\n",
    "    def get_similar_cards(self, cards_name: str):\n",
    "        formatted_card_name = self.format_card_name(cards_name)\n",
    "        url = f\"{self._json_page_cards_url}{formatted_card_name}.json\"\n",
    "        data = self._get(url)\n",
    "        return data[\"similar\"]\n",
    "myedhred = MyEDHREc()\n",
    "similar_cards = myedhred.get_similar_cards(\"Pongify\")\n",
    "[x[\"name\"] for x in similar_cards]"
   ]
  },
  {
   "cell_type": "code",
   "execution_count": null,
   "metadata": {},
   "outputs": [],
   "source": [
    "\n",
    "\n",
    "import networkx as nx\n",
    "\n",
    "import matplotlib.pyplot as plt\n",
    "import gravis as gv\n",
    "class Plotly_Graph_Ploter():\n",
    "    def __init__(self):\n",
    "        pass\n",
    "    def assign_properties(self,g: nx.Graph):\n",
    "        # Centrality calculation\n",
    "        node_centralities = nx.in_degree_centrality(g)\n",
    "        edge_centralities = nx.edge_betweenness_centrality(g)\n",
    "\n",
    "        # Community detection\n",
    "        communities = nx.algorithms.community.greedy_modularity_communities(g)\n",
    "\n",
    "        # Graph properties\n",
    "        g.graph['node_border_size'] = 1.5\n",
    "        g.graph['node_border_color'] = 'white'\n",
    "        g.graph['edge_opacity'] = 0.9\n",
    "\n",
    "        # Node properties: Size by centrality, shape by size, color by community\n",
    "        colors = ['red', 'blue', 'green', 'orange', 'pink', 'brown', 'yellow', 'cyan', 'magenta', 'violet']\n",
    "        for node_id in g.nodes:\n",
    "            node = g.nodes[node_id]\n",
    "            node['size'] = 10 + node_centralities[node_id] * 100\n",
    "            node['shape'] = 'circle' \n",
    "            for community_counter, community_members in enumerate(communities):\n",
    "                if node_id in community_members:\n",
    "                    break\n",
    "            node['color'] = colors[community_counter % len(colors)]\n",
    "\n",
    "        # Edge properties: Size by centrality, color by community (within=community color, between=black)\n",
    "        for edge_id in g.edges:\n",
    "            edge =  g.edges[edge_id]\n",
    "            source_node = g.nodes[edge_id[0]]\n",
    "            target_node = g.nodes[edge_id[1]]\n",
    "            edge['size'] = edge_centralities[edge_id] * 100\n",
    "            edge['color'] = source_node['color'] if source_node['color'] == target_node['color'] else 'black'\n",
    "\n",
    "\n",
    "# Assign node and edge properties\n",
    "    def plot_graph(self, G: nx.Graph):\n",
    "        self.assign_properties(G)\n",
    "        return gv.d3(G, edge_size_data_source='weight', use_edge_size_normalization=True)"
   ]
  },
  {
   "cell_type": "code",
   "execution_count": null,
   "metadata": {},
   "outputs": [],
   "source": [
    "class SimilarityGraph():\n",
    "    def __init__(self, graph: nx.Graph = nx.DiGraph()):\n",
    "        self.graph = graph\n",
    "        self.ploter = Plotly_Graph_Ploter()\n",
    "        self.edhrec_asker = MyEDHREc()\n",
    "    \n",
    "    def add_card(self, card_name: str, depth_similar_cards: int = 1):\n",
    "        if card_name in self.graph.nodes and self.graph.degree(card_name) > 0:\n",
    "            pass\n",
    "        similar_cards = self.edhrec_asker.get_similar_cards(card_name)\n",
    "        for card in similar_cards:\n",
    "            self.graph.add_edge(card_name, card[\"name\"], weight=1)\n",
    "            if depth_similar_cards > 1:\n",
    "                self.add_card(card[\"name\"], depth_similar_cards - 1)\n",
    "    def plot_graph(self):\n",
    "        return self.ploter.plot_graph(self.graph)\n",
    "simi_graph = SimilarityGraph()\n",
    "simi_graph.add_card(\"Tidal Barracuda\", 3)\n",
    "simi_graph.plot_graph()\n"
   ]
  },
  {
   "cell_type": "code",
   "execution_count": null,
   "metadata": {},
   "outputs": [],
   "source": [
    "nx.eigenvector_centrality(simi_graph.graph,tol=0.1)"
   ]
  },
  {
   "cell_type": "code",
   "execution_count": null,
   "metadata": {},
   "outputs": [],
   "source": [
    "dict(simi_graph.graph.adjacency())"
   ]
  }
 ],
 "metadata": {
  "kernelspec": {
   "display_name": "venv",
   "language": "python",
   "name": "python3"
  },
  "language_info": {
   "codemirror_mode": {
    "name": "ipython",
    "version": 3
   },
   "file_extension": ".py",
   "mimetype": "text/x-python",
   "name": "python",
   "nbconvert_exporter": "python",
   "pygments_lexer": "ipython3",
   "version": "3.10.12"
  }
 },
 "nbformat": 4,
 "nbformat_minor": 2
}
