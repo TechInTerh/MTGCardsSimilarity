{
 "cells": [
  {
   "cell_type": "code",
   "source": [
    "!pip install pyedhrec\n",
    "!pip install gravis"
   ],
   "metadata": {
    "colab": {
     "base_uri": "https://localhost:8080/"
    },
    "id": "L9duooxucDJt",
    "outputId": "6a835dd7-bea3-425b-aa14-d8a833600109",
    "ExecuteTime": {
     "end_time": "2024-04-21T20:31:19.438492Z",
     "start_time": "2024-04-21T20:31:11.293359Z"
    }
   },
   "outputs": [
    {
     "name": "stdout",
     "output_type": "stream",
     "text": [
      "Requirement already satisfied: pyedhrec in ./venv/lib/python3.10/site-packages (0.0.2)\r\n",
      "Requirement already satisfied: requests in ./venv/lib/python3.10/site-packages (from pyedhrec) (2.31.0)\r\n",
      "Requirement already satisfied: certifi>=2017.4.17 in ./venv/lib/python3.10/site-packages (from requests->pyedhrec) (2024.2.2)\r\n",
      "Requirement already satisfied: idna<4,>=2.5 in ./venv/lib/python3.10/site-packages (from requests->pyedhrec) (3.6)\r\n",
      "Requirement already satisfied: charset-normalizer<4,>=2 in ./venv/lib/python3.10/site-packages (from requests->pyedhrec) (3.3.2)\r\n",
      "Requirement already satisfied: urllib3<3,>=1.21.1 in ./venv/lib/python3.10/site-packages (from requests->pyedhrec) (2.2.1)\r\n",
      "Requirement already satisfied: gravis in ./venv/lib/python3.10/site-packages (0.1.0)\r\n",
      "Requirement already satisfied: setuptools>=40.0 in ./venv/lib/python3.10/site-packages (from gravis) (59.6.0)\r\n"
     ]
    }
   ],
   "execution_count": 1
  },
  {
   "cell_type": "code",
   "metadata": {
    "colab": {
     "base_uri": "https://localhost:8080/"
    },
    "id": "fazssmBEb_j2",
    "outputId": "d76354c5-484e-445b-dd86-f969339fc37d",
    "ExecuteTime": {
     "end_time": "2024-04-21T20:31:22.989144Z",
     "start_time": "2024-04-21T20:31:21.882098Z"
    }
   },
   "source": [
    "from pyedhrec import EDHRec\n",
    "class MyEDHREc(EDHRec):\n",
    "    def __init__(self):\n",
    "        super().__init__()\n",
    "        self._json_page_cards_url = \"https://json.edhrec.com/pages/cards/\"\n",
    "    @staticmethod\n",
    "    def format_card_name(card_name: str) -> str:\n",
    "        card_name = card_name.replace(\" // \", \"-\")\n",
    "        return EDHRec.format_card_name(card_name)\n",
    "    def get_similar_cards(self, cards_name: str):\n",
    "        formatted_card_name = self.format_card_name(cards_name)\n",
    "        url = f\"{self._json_page_cards_url}{formatted_card_name}.json\"\n",
    "        data = self._get(url)\n",
    "        return data[\"similar\"]\n",
    "myedhred = MyEDHREc()\n",
    "similar_cards = myedhred.get_similar_cards(\"Dusk // Dawn\")\n",
    "[x[\"name\"] for x in similar_cards]"
   ],
   "outputs": [
    {
     "data": {
      "text/plain": [
       "['Austere Command',\n",
       " 'Solar Tide',\n",
       " 'Retribution of the Meek',\n",
       " 'Slaughter the Strong',\n",
       " 'Fell the Mighty',\n",
       " 'Citywide Bust']"
      ]
     },
     "execution_count": 2,
     "metadata": {},
     "output_type": "execute_result"
    }
   ],
   "execution_count": 2
  },
  {
   "cell_type": "code",
   "metadata": {
    "id": "Sox9m900b_j7",
    "ExecuteTime": {
     "end_time": "2024-04-21T20:31:31.513572Z",
     "start_time": "2024-04-21T20:31:29.555965Z"
    }
   },
   "source": [
    "import networkx as nx\n",
    "import matplotlib.pyplot as plt\n",
    "import gravis as gv\n",
    "\n",
    "class Plotly_Graph_Ploter():\n",
    "    def __init__(self):\n",
    "        pass\n",
    "    def assign_properties(self,g: nx.Graph):\n",
    "        # Centrality calculation\n",
    "        node_centralities = nx.in_degree_centrality(g)\n",
    "        edge_centralities = nx.edge_betweenness_centrality(g)\n",
    "\n",
    "        # Community detection\n",
    "        communities = nx.algorithms.community.greedy_modularity_communities(g)\n",
    "\n",
    "        # Graph properties\n",
    "        g.graph['node_border_size'] = 1.5\n",
    "        g.graph['node_border_color'] = 'white'\n",
    "        g.graph['edge_opacity'] = 0.9\n",
    "\n",
    "        # Node properties: Size by centrality, shape by size, color by community\n",
    "        colors = ['red', 'blue', 'green', 'orange', 'pink', 'brown', 'yellow', 'cyan', 'magenta', 'violet']\n",
    "        for node_id in g.nodes:\n",
    "            node = g.nodes[node_id]\n",
    "            node['size'] = 10 + node_centralities[node_id] * 100\n",
    "            node['shape'] = 'circle'\n",
    "            for community_counter, community_members in enumerate(communities):\n",
    "                if node_id in community_members:\n",
    "                    break\n",
    "            node['color'] = colors[community_counter % len(colors)]\n",
    "\n",
    "        # Edge properties: Size by centrality, color by community (within=community color, between=black)\n",
    "        for edge_id in g.edges:\n",
    "            edge =  g.edges[edge_id]\n",
    "            source_node = g.nodes[edge_id[0]]\n",
    "            target_node = g.nodes[edge_id[1]]\n",
    "            edge['size'] = edge_centralities[edge_id] * 100\n",
    "            edge['color'] = source_node['color'] if source_node['color'] == target_node['color'] else 'black'\n",
    "\n",
    "\n",
    "# Assign node and edge properties\n",
    "    def plot_graph(self, G: nx.Graph):\n",
    "        self.assign_properties(G)\n",
    "        return gv.d3(G, edge_size_data_source='weight', use_edge_size_normalization=True)"
   ],
   "outputs": [],
   "execution_count": 3
  },
  {
   "cell_type": "code",
   "metadata": {
    "colab": {
     "base_uri": "https://localhost:8080/",
     "height": 52
    },
    "id": "AF8v2Uazb_j-",
    "outputId": "bdc1beb6-403c-4cf0-81bf-2d2501f8a3bb",
    "ExecuteTime": {
     "end_time": "2024-04-21T20:32:19.374495Z",
     "start_time": "2024-04-21T20:32:11.755988Z"
    }
   },
   "source": [
    "from tqdm import tqdm\n",
    "from IPython.display import HTML, display,DisplayHandle\n",
    "delimiter= \";\"\n",
    "class SimilarityGraph():\n",
    "    def __init__(self, graph: nx.Graph = nx.DiGraph()):\n",
    "        self.graph = graph\n",
    "        self.ploter = Plotly_Graph_Ploter()\n",
    "        self.edhrec_asker = MyEDHREc()\n",
    "        self.count_cards = 0\n",
    "\n",
    "    def _progress(self,card=None):\n",
    "        return HTML(f\"\"\"\n",
    "        Current card : {card}<br>\n",
    "        Number of Cards : {self.count_cards}\n",
    "        \"\"\")\n",
    "    @staticmethod\n",
    "    def load_graph(file_path : str):\n",
    "      return SimilarityGraph(nx.read_adjlist(file_path,delimiter=delimiter))\n",
    "    def write_graph(self,file_path : str):\n",
    "      nx.write_adjlist(self.graph,file_path, delimiter=delimiter)\n",
    "    def add_card(self, card_name: str, depth_similar_cards: int = 1):\n",
    "        #print(f\"Adding {card_name}\")\n",
    "        self.count_add = 0\n",
    "        self.count_max = sum([6**n for n in range(depth_similar_cards+1)])-1\n",
    "        display_bar = display(self._progress(),display_id=True)\n",
    "        self._rec_add_card(card_name,depth_similar_cards,display_bar)\n",
    "\n",
    "    def _rec_add_card(self, card_name: str, depth_similar_cards: int, display_bar : DisplayHandle):\n",
    "      similar_cards = self.edhrec_asker.get_similar_cards(card_name)\n",
    "      self.count_cards +=1\n",
    "      display_bar.update(self._progress(card_name))\n",
    "      for card in similar_cards:\n",
    "        self.graph.add_edge(card_name, card[\"name\"], weight=1)\n",
    "        if depth_similar_cards > 1 and self.graph.out_degree(card[\"name\"]) == 0:\n",
    "            self._rec_add_card(card[\"name\"], depth_similar_cards - 1,display_bar)\n",
    "\n",
    "    def plot_graph(self):\n",
    "        return self.ploter.plot_graph(self.graph)\n",
    "simi_graph = SimilarityGraph()\n",
    "simi_graph.add_card(\"Counterspell\", 3)\n"
   ],
   "outputs": [
    {
     "data": {
      "text/plain": [
       "<IPython.core.display.HTML object>"
      ],
      "text/html": [
       "\n",
       "        Current card : Cancel<br>\n",
       "        Number of Cards : 14\n",
       "        "
      ]
     },
     "metadata": {},
     "output_type": "display_data"
    }
   ],
   "execution_count": 7
  },
  {
   "cell_type": "code",
   "source": "simi_graph.plot_graph().export_html(\"out.html\")",
   "metadata": {
    "colab": {
     "base_uri": "https://localhost:8080/",
     "height": 475
    },
    "id": "00A4fB_ViI4M",
    "outputId": "468f1ab2-17db-4022-c3ae-8c8048f6a42c",
    "ExecuteTime": {
     "end_time": "2024-04-21T20:33:40.177379Z",
     "start_time": "2024-04-21T20:33:40.143490Z"
    }
   },
   "outputs": [],
   "execution_count": 11
  },
  {
   "cell_type": "code",
   "source": [
    "simi_graph.write_graph(\"graph.txt\")\n",
    "!cat graph.txt | head -n 20"
   ],
   "metadata": {
    "colab": {
     "base_uri": "https://localhost:8080/"
    },
    "id": "t1uw0qrOysO-",
    "outputId": "db65eb48-262b-435c-b922-bc62fea1a538",
    "ExecuteTime": {
     "end_time": "2024-04-21T20:34:38.619164Z",
     "start_time": "2024-04-21T20:34:38.486225Z"
    }
   },
   "outputs": [
    {
     "name": "stdout",
     "output_type": "stream",
     "text": [
      "#/home/victor/Documents/MTGCardsSimilarity/venv/lib/python3.10/site-packages/ipykernel_launcher.py -f /home/victor/.local/share/jupyter/runtime/kernel-938afbbe-080c-4acd-b647-061843086830.json\r\n",
      "# GMT Sun Apr 21 20:34:38 2024\r\n",
      "# \r\n",
      "Counterspell;Mana Drain;Spell Pierce;Negate;Dissolve;Disallow;Cancel\r\n",
      "Mana Drain;Counterspell;Force of Will;Cryptic Command;Daze;Pact of Negation;Spell Pierce\r\n",
      "Force of Will;Force of Negation;Mana Drain;Counterspell;Cryptic Command;Pact of Negation;Daze\r\n",
      "Force of Negation\r\n",
      "Cryptic Command;Mystic Confluence;Archmage's Charm;Izzet Charm;Ojutai's Command;Silumgar's Command;Kolaghan's Command\r\n",
      "Pact of Negation;Force of Will;Force of Negation;Mana Drain;Counterspell;Daze;Spell Pierce\r\n",
      "Daze;Force of Will;Force of Negation;Foil;Thwart;Gush;Snap\r\n",
      "Mystic Confluence\r\n",
      "Archmage's Charm\r\n",
      "Izzet Charm\r\n",
      "Ojutai's Command\r\n",
      "Silumgar's Command\r\n",
      "Kolaghan's Command\r\n",
      "Foil\r\n",
      "Thwart\r\n",
      "Gush\r\n",
      "Snap\r\n"
     ]
    }
   ],
   "execution_count": 12
  },
  {
   "cell_type": "code",
   "source": [
    "new_graph = SimilarityGraph.load_graph(\"graph.txt\")\n",
    "list(new_graph.graph.edges)[:10]"
   ],
   "metadata": {
    "colab": {
     "base_uri": "https://localhost:8080/"
    },
    "id": "yWV_wlVy0POW",
    "outputId": "9e6dfe02-be2d-40fd-86d4-ff0d61886de2"
   },
   "execution_count": 141,
   "outputs": [
    {
     "output_type": "execute_result",
     "data": {
      "text/plain": [
       "[('Counterspell', 'Mana Drain'),\n",
       " ('Counterspell', 'Spell Pierce'),\n",
       " ('Counterspell', 'Negate'),\n",
       " ('Counterspell', 'Dissolve'),\n",
       " ('Counterspell', 'Disallow'),\n",
       " ('Counterspell', 'Cancel'),\n",
       " ('Counterspell', 'Force of Will'),\n",
       " ('Counterspell', 'Force of Negation'),\n",
       " ('Counterspell', 'Pact of Negation'),\n",
       " ('Counterspell', 'Mana Leak')]"
      ]
     },
     "metadata": {},
     "execution_count": 141
    }
   ]
  }
 ],
 "metadata": {
  "kernelspec": {
   "display_name": "Python 3 (ipykernel)",
   "name": "python3",
   "language": "python"
  },
  "language_info": {
   "codemirror_mode": {
    "name": "ipython",
    "version": 3
   },
   "file_extension": ".py",
   "mimetype": "text/x-python",
   "name": "python",
   "nbconvert_exporter": "python",
   "pygments_lexer": "ipython3",
   "version": "3.10.12"
  },
  "colab": {
   "provenance": [],
   "gpuType": "T4"
  },
  "accelerator": "GPU"
 },
 "nbformat": 4,
 "nbformat_minor": 0
}
