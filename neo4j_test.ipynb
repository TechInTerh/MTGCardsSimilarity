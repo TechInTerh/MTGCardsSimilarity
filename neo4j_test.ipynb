{
 "cells": [
  {
   "cell_type": "code",
   "id": "initial_id",
   "metadata": {
    "collapsed": true,
    "ExecuteTime": {
     "end_time": "2024-04-22T13:00:40.705682Z",
     "start_time": "2024-04-22T13:00:40.689460Z"
    }
   },
   "source": "from neo4j import GraphDatabase, RoutingControl",
   "outputs": [],
   "execution_count": 5
  },
  {
   "metadata": {
    "ExecuteTime": {
     "end_time": "2024-04-22T13:00:41.465420Z",
     "start_time": "2024-04-22T13:00:41.458730Z"
    }
   },
   "cell_type": "code",
   "source": [
    "URI = \"bolt://localhost:7687\"\n",
    "AUTH= (\"neo4j\",\"12345678\")\n"
   ],
   "id": "e38bcf1ca49cf8be",
   "outputs": [],
   "execution_count": 6
  },
  {
   "metadata": {
    "ExecuteTime": {
     "end_time": "2024-04-22T13:00:42.165065Z",
     "start_time": "2024-04-22T13:00:41.986022Z"
    }
   },
   "cell_type": "code",
   "source": [
    "driver = GraphDatabase.driver(URI)\n",
    "driver.verify_authentication()"
   ],
   "id": "2946d9dec03b040e",
   "outputs": [
    {
     "data": {
      "text/plain": [
       "True"
      ]
     },
     "execution_count": 7,
     "metadata": {},
     "output_type": "execute_result"
    }
   ],
   "execution_count": 7
  },
  {
   "metadata": {
    "ExecuteTime": {
     "end_time": "2024-04-22T10:43:09.755859Z",
     "start_time": "2024-04-22T10:43:09.504034Z"
    }
   },
   "cell_type": "code",
   "source": [
    "def add_friend(driver, name, friend_name):\n",
    "    driver.execute_query(\n",
    "        \"MERGE (a:Person {name: $name}) \"\n",
    "        \"MERGE (friend:Person {name: $friend_name}) \"\n",
    "        \"MERGE (a)-[:KNOWS]->(friend)\",\n",
    "        name=name, friend_name=friend_name, database_=\"neo4j\",\n",
    "    )\n",
    "\n",
    "\n",
    "def print_friends(driver, name):\n",
    "    records, _, _ = driver.execute_query(\n",
    "        \"MATCH (a:Person)-[:KNOWS]->(friend) WHERE a.name = $name \"\n",
    "        \"RETURN friend.name ORDER BY friend.name\",\n",
    "        name=name, database_=\"neo4j\", routing_=RoutingControl.READ,\n",
    "    )\n",
    "    for record in records:\n",
    "        print(record[\"friend.name\"])\n",
    "add_friend(driver,\"Arthur\",\"Gui\")\n",
    "add_friend(driver,\"Arthur\",\"Victor\")\n",
    "print_friends(driver,\"Arthur\")"
   ],
   "id": "23f49f21401da5bd",
   "outputs": [
    {
     "ename": "ConfigurationError",
     "evalue": "Database name parameter for selecting database is not supported in Bolt Protocol Version(3, 0). Database name 'neo4j'.",
     "output_type": "error",
     "traceback": [
      "\u001B[0;31m---------------------------------------------------------------------------\u001B[0m",
      "\u001B[0;31mConfigurationError\u001B[0m                        Traceback (most recent call last)",
      "Cell \u001B[0;32mIn[9], line 18\u001B[0m\n\u001B[1;32m     16\u001B[0m     \u001B[38;5;28;01mfor\u001B[39;00m record \u001B[38;5;129;01min\u001B[39;00m records:\n\u001B[1;32m     17\u001B[0m         \u001B[38;5;28mprint\u001B[39m(record[\u001B[38;5;124m\"\u001B[39m\u001B[38;5;124mfriend.name\u001B[39m\u001B[38;5;124m\"\u001B[39m])\n\u001B[0;32m---> 18\u001B[0m \u001B[43madd_friend\u001B[49m\u001B[43m(\u001B[49m\u001B[43mdriver\u001B[49m\u001B[43m,\u001B[49m\u001B[38;5;124;43m\"\u001B[39;49m\u001B[38;5;124;43mArthur\u001B[39;49m\u001B[38;5;124;43m\"\u001B[39;49m\u001B[43m,\u001B[49m\u001B[38;5;124;43m\"\u001B[39;49m\u001B[38;5;124;43mGui\u001B[39;49m\u001B[38;5;124;43m\"\u001B[39;49m\u001B[43m)\u001B[49m\n\u001B[1;32m     19\u001B[0m add_friend(driver,\u001B[38;5;124m\"\u001B[39m\u001B[38;5;124mArthur\u001B[39m\u001B[38;5;124m\"\u001B[39m,\u001B[38;5;124m\"\u001B[39m\u001B[38;5;124mVictor\u001B[39m\u001B[38;5;124m\"\u001B[39m)\n\u001B[1;32m     20\u001B[0m print_friends(driver,\u001B[38;5;124m\"\u001B[39m\u001B[38;5;124mArthur\u001B[39m\u001B[38;5;124m\"\u001B[39m)\n",
      "Cell \u001B[0;32mIn[9], line 2\u001B[0m, in \u001B[0;36madd_friend\u001B[0;34m(driver, name, friend_name)\u001B[0m\n\u001B[1;32m      1\u001B[0m \u001B[38;5;28;01mdef\u001B[39;00m \u001B[38;5;21madd_friend\u001B[39m(driver, name, friend_name):\n\u001B[0;32m----> 2\u001B[0m     \u001B[43mdriver\u001B[49m\u001B[38;5;241;43m.\u001B[39;49m\u001B[43mexecute_query\u001B[49m\u001B[43m(\u001B[49m\n\u001B[1;32m      3\u001B[0m \u001B[43m        \u001B[49m\u001B[38;5;124;43m\"\u001B[39;49m\u001B[38;5;124;43mMERGE (a:Person \u001B[39;49m\u001B[38;5;124;43m{\u001B[39;49m\u001B[38;5;124;43mname: $name}) \u001B[39;49m\u001B[38;5;124;43m\"\u001B[39;49m\n\u001B[1;32m      4\u001B[0m \u001B[43m        \u001B[49m\u001B[38;5;124;43m\"\u001B[39;49m\u001B[38;5;124;43mMERGE (friend:Person \u001B[39;49m\u001B[38;5;124;43m{\u001B[39;49m\u001B[38;5;124;43mname: $friend_name}) \u001B[39;49m\u001B[38;5;124;43m\"\u001B[39;49m\n\u001B[1;32m      5\u001B[0m \u001B[43m        \u001B[49m\u001B[38;5;124;43m\"\u001B[39;49m\u001B[38;5;124;43mMERGE (a)-[:KNOWS]->(friend)\u001B[39;49m\u001B[38;5;124;43m\"\u001B[39;49m\u001B[43m,\u001B[49m\n\u001B[1;32m      6\u001B[0m \u001B[43m        \u001B[49m\u001B[43mname\u001B[49m\u001B[38;5;241;43m=\u001B[39;49m\u001B[43mname\u001B[49m\u001B[43m,\u001B[49m\u001B[43m \u001B[49m\u001B[43mfriend_name\u001B[49m\u001B[38;5;241;43m=\u001B[39;49m\u001B[43mfriend_name\u001B[49m\u001B[43m,\u001B[49m\u001B[43m \u001B[49m\u001B[43mdatabase_\u001B[49m\u001B[38;5;241;43m=\u001B[39;49m\u001B[38;5;124;43m\"\u001B[39;49m\u001B[38;5;124;43mneo4j\u001B[39;49m\u001B[38;5;124;43m\"\u001B[39;49m\u001B[43m,\u001B[49m\n\u001B[1;32m      7\u001B[0m \u001B[43m    \u001B[49m\u001B[43m)\u001B[49m\n",
      "File \u001B[0;32m~/Documents/MTGCardsSimilarity/venv/lib/python3.10/site-packages/neo4j/_sync/driver.py:920\u001B[0m, in \u001B[0;36mDriver.execute_query\u001B[0;34m(self, query_, parameters_, routing_, database_, impersonated_user_, bookmark_manager_, auth_, result_transformer_, **kwargs)\u001B[0m\n\u001B[1;32m    917\u001B[0m     \u001B[38;5;28;01mraise\u001B[39;00m \u001B[38;5;167;01mValueError\u001B[39;00m(\u001B[38;5;124m\"\u001B[39m\u001B[38;5;124mInvalid routing control value: \u001B[39m\u001B[38;5;132;01m%r\u001B[39;00m\u001B[38;5;124m\"\u001B[39m\n\u001B[1;32m    918\u001B[0m                      \u001B[38;5;241m%\u001B[39m routing_)\n\u001B[1;32m    919\u001B[0m \u001B[38;5;28;01mwith\u001B[39;00m session\u001B[38;5;241m.\u001B[39m_pipelined_begin:\n\u001B[0;32m--> 920\u001B[0m     \u001B[38;5;28;01mreturn\u001B[39;00m \u001B[43msession\u001B[49m\u001B[38;5;241;43m.\u001B[39;49m\u001B[43m_run_transaction\u001B[49m\u001B[43m(\u001B[49m\n\u001B[1;32m    921\u001B[0m \u001B[43m        \u001B[49m\u001B[43maccess_mode\u001B[49m\u001B[43m,\u001B[49m\u001B[43m \u001B[49m\u001B[43mTelemetryAPI\u001B[49m\u001B[38;5;241;43m.\u001B[39;49m\u001B[43mDRIVER\u001B[49m\u001B[43m,\u001B[49m\n\u001B[1;32m    922\u001B[0m \u001B[43m        \u001B[49m\u001B[43mwork\u001B[49m\u001B[43m,\u001B[49m\u001B[43m \u001B[49m\u001B[43m(\u001B[49m\u001B[43mquery_str\u001B[49m\u001B[43m,\u001B[49m\u001B[43m \u001B[49m\u001B[43mparameters\u001B[49m\u001B[43m,\u001B[49m\u001B[43m \u001B[49m\u001B[43mresult_transformer_\u001B[49m\u001B[43m)\u001B[49m\u001B[43m,\u001B[49m\u001B[43m \u001B[49m\u001B[43m{\u001B[49m\u001B[43m}\u001B[49m\n\u001B[1;32m    923\u001B[0m \u001B[43m    \u001B[49m\u001B[43m)\u001B[49m\n",
      "File \u001B[0;32m~/Documents/MTGCardsSimilarity/venv/lib/python3.10/site-packages/neo4j/_sync/work/session.py:543\u001B[0m, in \u001B[0;36mSession._run_transaction\u001B[0;34m(self, access_mode, api, transaction_function, args, kwargs)\u001B[0m\n\u001B[1;32m    541\u001B[0m \u001B[38;5;28;01mwhile\u001B[39;00m \u001B[38;5;28;01mTrue\u001B[39;00m:\n\u001B[1;32m    542\u001B[0m     \u001B[38;5;28;01mtry\u001B[39;00m:\n\u001B[0;32m--> 543\u001B[0m         \u001B[38;5;28;43mself\u001B[39;49m\u001B[38;5;241;43m.\u001B[39;49m\u001B[43m_open_transaction\u001B[49m\u001B[43m(\u001B[49m\n\u001B[1;32m    544\u001B[0m \u001B[43m            \u001B[49m\u001B[43mtx_cls\u001B[49m\u001B[38;5;241;43m=\u001B[39;49m\u001B[43mManagedTransaction\u001B[49m\u001B[43m,\u001B[49m\n\u001B[1;32m    545\u001B[0m \u001B[43m            \u001B[49m\u001B[43mapi\u001B[49m\u001B[38;5;241;43m=\u001B[39;49m\u001B[38;5;28;43;01mNone\u001B[39;49;00m\u001B[43m \u001B[49m\u001B[38;5;28;43;01mif\u001B[39;49;00m\u001B[43m \u001B[49m\u001B[43mtelemetry_sent\u001B[49m\u001B[43m \u001B[49m\u001B[38;5;28;43;01melse\u001B[39;49;00m\u001B[43m \u001B[49m\u001B[43mapi\u001B[49m\u001B[43m,\u001B[49m\n\u001B[1;32m    546\u001B[0m \u001B[43m            \u001B[49m\u001B[43maccess_mode\u001B[49m\u001B[38;5;241;43m=\u001B[39;49m\u001B[43maccess_mode\u001B[49m\u001B[43m,\u001B[49m\u001B[43m \u001B[49m\u001B[43mmetadata\u001B[49m\u001B[38;5;241;43m=\u001B[39;49m\u001B[43mmetadata\u001B[49m\u001B[43m,\u001B[49m\n\u001B[1;32m    547\u001B[0m \u001B[43m            \u001B[49m\u001B[43mtimeout\u001B[49m\u001B[38;5;241;43m=\u001B[39;49m\u001B[43mtimeout\u001B[49m\u001B[43m,\u001B[49m\u001B[43m \u001B[49m\u001B[43mapi_success_cb\u001B[49m\u001B[38;5;241;43m=\u001B[39;49m\u001B[43mapi_success_cb\u001B[49m\u001B[43m,\u001B[49m\n\u001B[1;32m    548\u001B[0m \u001B[43m        \u001B[49m\u001B[43m)\u001B[49m\n\u001B[1;32m    549\u001B[0m         \u001B[38;5;28;01massert\u001B[39;00m \u001B[38;5;28misinstance\u001B[39m(\u001B[38;5;28mself\u001B[39m\u001B[38;5;241m.\u001B[39m_transaction, ManagedTransaction)\n\u001B[1;32m    550\u001B[0m         tx \u001B[38;5;241m=\u001B[39m \u001B[38;5;28mself\u001B[39m\u001B[38;5;241m.\u001B[39m_transaction\n",
      "File \u001B[0;32m~/Documents/MTGCardsSimilarity/venv/lib/python3.10/site-packages/neo4j/_sync/work/session.py:434\u001B[0m, in \u001B[0;36mSession._open_transaction\u001B[0;34m(self, tx_cls, access_mode, api, metadata, timeout, api_success_cb)\u001B[0m\n\u001B[1;32m    427\u001B[0m \u001B[38;5;28mself\u001B[39m\u001B[38;5;241m.\u001B[39m_transaction \u001B[38;5;241m=\u001B[39m tx_cls(\n\u001B[1;32m    428\u001B[0m     \u001B[38;5;28mself\u001B[39m\u001B[38;5;241m.\u001B[39m_connection, \u001B[38;5;28mself\u001B[39m\u001B[38;5;241m.\u001B[39m_config\u001B[38;5;241m.\u001B[39mfetch_size,\n\u001B[1;32m    429\u001B[0m     \u001B[38;5;28mself\u001B[39m\u001B[38;5;241m.\u001B[39m_transaction_closed_handler,\n\u001B[1;32m    430\u001B[0m     \u001B[38;5;28mself\u001B[39m\u001B[38;5;241m.\u001B[39m_transaction_error_handler,\n\u001B[1;32m    431\u001B[0m     \u001B[38;5;28mself\u001B[39m\u001B[38;5;241m.\u001B[39m_transaction_cancel_handler\n\u001B[1;32m    432\u001B[0m )\n\u001B[1;32m    433\u001B[0m bookmarks \u001B[38;5;241m=\u001B[39m \u001B[38;5;28mself\u001B[39m\u001B[38;5;241m.\u001B[39m_get_bookmarks()\n\u001B[0;32m--> 434\u001B[0m \u001B[38;5;28;43mself\u001B[39;49m\u001B[38;5;241;43m.\u001B[39;49m\u001B[43m_transaction\u001B[49m\u001B[38;5;241;43m.\u001B[39;49m\u001B[43m_begin\u001B[49m\u001B[43m(\u001B[49m\n\u001B[1;32m    435\u001B[0m \u001B[43m    \u001B[49m\u001B[38;5;28;43mself\u001B[39;49m\u001B[38;5;241;43m.\u001B[39;49m\u001B[43m_config\u001B[49m\u001B[38;5;241;43m.\u001B[39;49m\u001B[43mdatabase\u001B[49m\u001B[43m,\u001B[49m\u001B[43m \u001B[49m\u001B[38;5;28;43mself\u001B[39;49m\u001B[38;5;241;43m.\u001B[39;49m\u001B[43m_config\u001B[49m\u001B[38;5;241;43m.\u001B[39;49m\u001B[43mimpersonated_user\u001B[49m\u001B[43m,\u001B[49m\n\u001B[1;32m    436\u001B[0m \u001B[43m    \u001B[49m\u001B[43mbookmarks\u001B[49m\u001B[43m,\u001B[49m\u001B[43m \u001B[49m\u001B[43maccess_mode\u001B[49m\u001B[43m,\u001B[49m\u001B[43m \u001B[49m\u001B[43mmetadata\u001B[49m\u001B[43m,\u001B[49m\u001B[43m \u001B[49m\u001B[43mtimeout\u001B[49m\u001B[43m,\u001B[49m\n\u001B[1;32m    437\u001B[0m \u001B[43m    \u001B[49m\u001B[38;5;28;43mself\u001B[39;49m\u001B[38;5;241;43m.\u001B[39;49m\u001B[43m_config\u001B[49m\u001B[38;5;241;43m.\u001B[39;49m\u001B[43mnotifications_min_severity\u001B[49m\u001B[43m,\u001B[49m\n\u001B[1;32m    438\u001B[0m \u001B[43m    \u001B[49m\u001B[38;5;28;43mself\u001B[39;49m\u001B[38;5;241;43m.\u001B[39;49m\u001B[43m_config\u001B[49m\u001B[38;5;241;43m.\u001B[39;49m\u001B[43mnotifications_disabled_categories\u001B[49m\u001B[43m,\u001B[49m\n\u001B[1;32m    439\u001B[0m \u001B[43m    \u001B[49m\u001B[43mpipelined\u001B[49m\u001B[38;5;241;43m=\u001B[39;49m\u001B[38;5;28;43mself\u001B[39;49m\u001B[38;5;241;43m.\u001B[39;49m\u001B[43m_pipelined_begin\u001B[49m\n\u001B[1;32m    440\u001B[0m \u001B[43m\u001B[49m\u001B[43m)\u001B[49m\n",
      "File \u001B[0;32m~/Documents/MTGCardsSimilarity/venv/lib/python3.10/site-packages/neo4j/_sync/work/transaction.py:81\u001B[0m, in \u001B[0;36mTransactionBase._begin\u001B[0;34m(self, database, imp_user, bookmarks, access_mode, metadata, timeout, notifications_min_severity, notifications_disabled_categories, pipelined)\u001B[0m\n\u001B[1;32m     74\u001B[0m \u001B[38;5;129m@NonConcurrentMethodChecker\u001B[39m\u001B[38;5;241m.\u001B[39mnon_concurrent_method\n\u001B[1;32m     75\u001B[0m \u001B[38;5;28;01mdef\u001B[39;00m \u001B[38;5;21m_begin\u001B[39m(\n\u001B[1;32m     76\u001B[0m     \u001B[38;5;28mself\u001B[39m, database, imp_user, bookmarks, access_mode, metadata, timeout,\n\u001B[1;32m     77\u001B[0m     notifications_min_severity, notifications_disabled_categories,\n\u001B[1;32m     78\u001B[0m     pipelined\u001B[38;5;241m=\u001B[39m\u001B[38;5;28;01mFalse\u001B[39;00m,\n\u001B[1;32m     79\u001B[0m ):\n\u001B[1;32m     80\u001B[0m     \u001B[38;5;28mself\u001B[39m\u001B[38;5;241m.\u001B[39m_database \u001B[38;5;241m=\u001B[39m database\n\u001B[0;32m---> 81\u001B[0m     \u001B[38;5;28;43mself\u001B[39;49m\u001B[38;5;241;43m.\u001B[39;49m\u001B[43m_connection\u001B[49m\u001B[38;5;241;43m.\u001B[39;49m\u001B[43mbegin\u001B[49m\u001B[43m(\u001B[49m\n\u001B[1;32m     82\u001B[0m \u001B[43m        \u001B[49m\u001B[43mbookmarks\u001B[49m\u001B[38;5;241;43m=\u001B[39;49m\u001B[43mbookmarks\u001B[49m\u001B[43m,\u001B[49m\u001B[43m \u001B[49m\u001B[43mmetadata\u001B[49m\u001B[38;5;241;43m=\u001B[39;49m\u001B[43mmetadata\u001B[49m\u001B[43m,\u001B[49m\u001B[43m \u001B[49m\u001B[43mtimeout\u001B[49m\u001B[38;5;241;43m=\u001B[39;49m\u001B[43mtimeout\u001B[49m\u001B[43m,\u001B[49m\n\u001B[1;32m     83\u001B[0m \u001B[43m        \u001B[49m\u001B[43mmode\u001B[49m\u001B[38;5;241;43m=\u001B[39;49m\u001B[43maccess_mode\u001B[49m\u001B[43m,\u001B[49m\u001B[43m \u001B[49m\u001B[43mdb\u001B[49m\u001B[38;5;241;43m=\u001B[39;49m\u001B[43mdatabase\u001B[49m\u001B[43m,\u001B[49m\u001B[43m \u001B[49m\u001B[43mimp_user\u001B[49m\u001B[38;5;241;43m=\u001B[39;49m\u001B[43mimp_user\u001B[49m\u001B[43m,\u001B[49m\n\u001B[1;32m     84\u001B[0m \u001B[43m        \u001B[49m\u001B[43mnotifications_min_severity\u001B[49m\u001B[38;5;241;43m=\u001B[39;49m\u001B[43mnotifications_min_severity\u001B[49m\u001B[43m,\u001B[49m\n\u001B[1;32m     85\u001B[0m \u001B[43m        \u001B[49m\u001B[43mnotifications_disabled_categories\u001B[49m\u001B[38;5;241;43m=\u001B[39;49m\u001B[43mnotifications_disabled_categories\u001B[49m\n\u001B[1;32m     86\u001B[0m \u001B[43m    \u001B[49m\u001B[43m)\u001B[49m\n\u001B[1;32m     87\u001B[0m     \u001B[38;5;28;01mif\u001B[39;00m \u001B[38;5;129;01mnot\u001B[39;00m pipelined:\n\u001B[1;32m     88\u001B[0m         \u001B[38;5;28mself\u001B[39m\u001B[38;5;241m.\u001B[39m_error_handling_connection\u001B[38;5;241m.\u001B[39msend_all()\n",
      "File \u001B[0;32m~/Documents/MTGCardsSimilarity/venv/lib/python3.10/site-packages/neo4j/_sync/io/_bolt3.py:342\u001B[0m, in \u001B[0;36mBolt3.begin\u001B[0;34m(self, mode, bookmarks, metadata, timeout, db, imp_user, notifications_min_severity, notifications_disabled_categories, dehydration_hooks, hydration_hooks, **handlers)\u001B[0m\n\u001B[1;32m    337\u001B[0m \u001B[38;5;28;01mdef\u001B[39;00m \u001B[38;5;21mbegin\u001B[39m(\u001B[38;5;28mself\u001B[39m, mode\u001B[38;5;241m=\u001B[39m\u001B[38;5;28;01mNone\u001B[39;00m, bookmarks\u001B[38;5;241m=\u001B[39m\u001B[38;5;28;01mNone\u001B[39;00m, metadata\u001B[38;5;241m=\u001B[39m\u001B[38;5;28;01mNone\u001B[39;00m, timeout\u001B[38;5;241m=\u001B[39m\u001B[38;5;28;01mNone\u001B[39;00m,\n\u001B[1;32m    338\u001B[0m           db\u001B[38;5;241m=\u001B[39m\u001B[38;5;28;01mNone\u001B[39;00m, imp_user\u001B[38;5;241m=\u001B[39m\u001B[38;5;28;01mNone\u001B[39;00m, notifications_min_severity\u001B[38;5;241m=\u001B[39m\u001B[38;5;28;01mNone\u001B[39;00m,\n\u001B[1;32m    339\u001B[0m           notifications_disabled_categories\u001B[38;5;241m=\u001B[39m\u001B[38;5;28;01mNone\u001B[39;00m, dehydration_hooks\u001B[38;5;241m=\u001B[39m\u001B[38;5;28;01mNone\u001B[39;00m,\n\u001B[1;32m    340\u001B[0m           hydration_hooks\u001B[38;5;241m=\u001B[39m\u001B[38;5;28;01mNone\u001B[39;00m, \u001B[38;5;241m*\u001B[39m\u001B[38;5;241m*\u001B[39mhandlers):\n\u001B[1;32m    341\u001B[0m     \u001B[38;5;28;01mif\u001B[39;00m db \u001B[38;5;129;01mis\u001B[39;00m \u001B[38;5;129;01mnot\u001B[39;00m \u001B[38;5;28;01mNone\u001B[39;00m:\n\u001B[0;32m--> 342\u001B[0m         \u001B[38;5;28;01mraise\u001B[39;00m ConfigurationError(\n\u001B[1;32m    343\u001B[0m             \u001B[38;5;124m\"\u001B[39m\u001B[38;5;124mDatabase name parameter for selecting database is not \u001B[39m\u001B[38;5;124m\"\u001B[39m\n\u001B[1;32m    344\u001B[0m             \u001B[38;5;124m\"\u001B[39m\u001B[38;5;124msupported in Bolt Protocol \u001B[39m\u001B[38;5;132;01m{!r}\u001B[39;00m\u001B[38;5;124m. Database name \u001B[39m\u001B[38;5;132;01m{!r}\u001B[39;00m\u001B[38;5;124m.\u001B[39m\u001B[38;5;124m\"\u001B[39m\u001B[38;5;241m.\u001B[39mformat(\n\u001B[1;32m    345\u001B[0m                 \u001B[38;5;28mself\u001B[39m\u001B[38;5;241m.\u001B[39mPROTOCOL_VERSION, db\n\u001B[1;32m    346\u001B[0m             )\n\u001B[1;32m    347\u001B[0m         )\n\u001B[1;32m    348\u001B[0m     \u001B[38;5;28;01mif\u001B[39;00m imp_user \u001B[38;5;129;01mis\u001B[39;00m \u001B[38;5;129;01mnot\u001B[39;00m \u001B[38;5;28;01mNone\u001B[39;00m:\n\u001B[1;32m    349\u001B[0m         \u001B[38;5;28;01mraise\u001B[39;00m ConfigurationError(\n\u001B[1;32m    350\u001B[0m             \u001B[38;5;124m\"\u001B[39m\u001B[38;5;124mImpersonation is not supported in Bolt Protocol \u001B[39m\u001B[38;5;132;01m{!r}\u001B[39;00m\u001B[38;5;124m. \u001B[39m\u001B[38;5;124m\"\u001B[39m\n\u001B[1;32m    351\u001B[0m             \u001B[38;5;124m\"\u001B[39m\u001B[38;5;124mTrying to impersonate \u001B[39m\u001B[38;5;132;01m{!r}\u001B[39;00m\u001B[38;5;124m.\u001B[39m\u001B[38;5;124m\"\u001B[39m\u001B[38;5;241m.\u001B[39mformat(\n\u001B[1;32m    352\u001B[0m                 \u001B[38;5;28mself\u001B[39m\u001B[38;5;241m.\u001B[39mPROTOCOL_VERSION, imp_user\n\u001B[1;32m    353\u001B[0m             )\n\u001B[1;32m    354\u001B[0m         )\n",
      "\u001B[0;31mConfigurationError\u001B[0m: Database name parameter for selecting database is not supported in Bolt Protocol Version(3, 0). Database name 'neo4j'."
     ]
    }
   ],
   "execution_count": 9
  },
  {
   "metadata": {},
   "cell_type": "code",
   "outputs": [],
   "execution_count": null,
   "source": "",
   "id": "c3cb2600353b9b53"
  }
 ],
 "metadata": {
  "kernelspec": {
   "display_name": "Python 3",
   "language": "python",
   "name": "python3"
  },
  "language_info": {
   "codemirror_mode": {
    "name": "ipython",
    "version": 2
   },
   "file_extension": ".py",
   "mimetype": "text/x-python",
   "name": "python",
   "nbconvert_exporter": "python",
   "pygments_lexer": "ipython2",
   "version": "2.7.6"
  }
 },
 "nbformat": 4,
 "nbformat_minor": 5
}
